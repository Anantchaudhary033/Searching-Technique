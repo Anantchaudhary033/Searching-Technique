{
 "cells": [
  {
   "cell_type": "markdown",
   "id": "9059addf",
   "metadata": {},
   "source": [
    "# SEARCHING TECHNIQUE"
   ]
  },
  {
   "cell_type": "code",
   "execution_count": 1,
   "id": "4265385d",
   "metadata": {},
   "outputs": [],
   "source": [
    "import array\n",
    "from array import*"
   ]
  },
  {
   "cell_type": "code",
   "execution_count": 2,
   "id": "ac6ca097",
   "metadata": {},
   "outputs": [
    {
     "name": "stdout",
     "output_type": "stream",
     "text": [
      "('i', [12, 52, 69, 36, 9, 84])\n"
     ]
    }
   ],
   "source": [
    "a=('i',[12,52,69,36,9,84])\n",
    "print(a)"
   ]
  },
  {
   "cell_type": "code",
   "execution_count": 3,
   "id": "f268cfd1",
   "metadata": {},
   "outputs": [
    {
     "name": "stdout",
     "output_type": "stream",
     "text": [
      "inside the array\n"
     ]
    }
   ],
   "source": [
    "def find(arr,x):\n",
    "    for i in range(len(arr)):\n",
    "        if arr[i]==x:\n",
    "            return i\n",
    "    return -1\n",
    "a=array('i',[12,52,69,36,9,84])\n",
    "x=9\n",
    "result = find(a,x)\n",
    "if result!= -1:\n",
    "    print(\"inside the array\")\n",
    "else:\n",
    "    print(\"not in array\")"
   ]
  },
  {
   "cell_type": "code",
   "execution_count": null,
   "id": "03417ab2",
   "metadata": {},
   "outputs": [],
   "source": []
  }
 ],
 "metadata": {
  "kernelspec": {
   "display_name": "Python 3 (ipykernel)",
   "language": "python",
   "name": "python3"
  },
  "language_info": {
   "codemirror_mode": {
    "name": "ipython",
    "version": 3
   },
   "file_extension": ".py",
   "mimetype": "text/x-python",
   "name": "python",
   "nbconvert_exporter": "python",
   "pygments_lexer": "ipython3",
   "version": "3.11.5"
  }
 },
 "nbformat": 4,
 "nbformat_minor": 5
}
